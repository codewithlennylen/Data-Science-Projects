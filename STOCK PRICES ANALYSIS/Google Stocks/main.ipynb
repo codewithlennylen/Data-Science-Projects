{
 "metadata": {
  "language_info": {
   "codemirror_mode": {
    "name": "ipython",
    "version": 3
   },
   "file_extension": ".py",
   "mimetype": "text/x-python",
   "name": "python",
   "nbconvert_exporter": "python",
   "pygments_lexer": "ipython3",
   "version": "3.8.3-final"
  },
  "orig_nbformat": 2,
  "kernelspec": {
   "name": "python_defaultSpec_1597605110255",
   "display_name": "Python 3.8.3 64-bit"
  }
 },
 "nbformat": 4,
 "nbformat_minor": 2,
 "cells": [
  {
   "cell_type": "code",
   "execution_count": 21,
   "metadata": {},
   "outputs": [],
   "source": [
    "import pandas as pd\n",
    "import matplotlib.pyplot as plt\n",
    "%matplotlib inline"
   ]
  },
  {
   "cell_type": "code",
   "execution_count": 5,
   "metadata": {
    "tags": []
   },
   "outputs": [
    {
     "output_type": "stream",
     "name": "stdout",
     "text": "Date  Close/Last   Volume       Open         High         Low\n0  08/14/2020    $1507.73  1355200   $1515.66      $1521.9    $1502.88\n1  08/13/2020    $1518.45  1455208   $1510.34     $1537.25   $1508.005\n2  08/12/2020    $1506.62  1437655   $1485.58   $1512.3859    $1485.25\n3  08/11/2020    $1480.32  1454365   $1492.44        $1510       $1478\n4  08/10/2020     $1496.1  1289530   $1487.18    $1504.075    $1473.08\n"
    }
   ],
   "source": [
    "df = pd.read_csv(\"google_stocks.csv\")\n",
    "print(df.head())"
   ]
  },
  {
   "cell_type": "code",
   "execution_count": 7,
   "metadata": {
    "tags": []
   },
   "outputs": [
    {
     "output_type": "stream",
     "name": "stdout",
     "text": "Index(['Date', ' Close/Last', ' Volume', ' Open', ' High', ' Low'], dtype='object')\n"
    }
   ],
   "source": [
    "print(df.columns)"
   ]
  },
  {
   "cell_type": "code",
   "execution_count": 17,
   "metadata": {
    "tags": []
   },
   "outputs": [
    {
     "output_type": "stream",
     "name": "stdout",
     "text": "0     08/14/2020\n1     08/13/2020\n2     08/12/2020\n3     08/11/2020\n4     08/10/2020\n5     08/07/2020\n6     08/06/2020\n7     08/05/2020\n8     08/04/2020\n9     08/03/2020\n10    07/31/2020\n11    07/30/2020\n12    07/29/2020\n13    07/28/2020\n14    07/27/2020\n15    07/24/2020\n16    07/23/2020\n17    07/22/2020\n18    07/21/2020\n19    07/20/2020\n20    07/17/2020\n21    07/16/2020\n22    07/15/2020\nName: Date, dtype: object\n0         $1521.9\n1        $1537.25\n2      $1512.3859\n3           $1510\n4       $1504.075\n5       $1516.845\n6        $1502.39\n7        $1482.41\n8        $1485.56\n9        $1490.47\n10       $1508.95\n11       $1537.87\n12     $1531.2522\n13       $1526.48\n14       $1540.97\n15     $1517.6362\n16       $1571.87\n17          $1570\n18       $1586.99\n19       $1570.29\n20       $1523.44\n21       $1518.69\n22       $1535.33\nName:  High, dtype: object\n"
    }
   ],
   "source": [
    "# Define the Variables to be used in the plot\n",
    "months = df.iloc[:,0]\n",
    "high = df.iloc[:,4]\n",
    "\n",
    "print(months)\n",
    "print(high)"
   ]
  },
  {
   "cell_type": "code",
   "execution_count": 20,
   "metadata": {},
   "outputs": [],
   "source": [
    "# Plot the Graph\n",
    "plt.plot(months, high)\n",
    "plt.show()"
   ]
  }
 ]
}